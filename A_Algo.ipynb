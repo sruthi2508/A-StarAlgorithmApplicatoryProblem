{
  "nbformat": 4,
  "nbformat_minor": 0,
  "metadata": {
    "colab": {
      "name": "A* Algo.ipynb",
      "provenance": [],
      "collapsed_sections": []
    },
    "kernelspec": {
      "name": "python3",
      "display_name": "Python 3"
    },
    "language_info": {
      "name": "python"
    }
  },
  "cells": [
    {
      "cell_type": "code",
      "execution_count": 1,
      "metadata": {
        "id": "xsPgJzJVNLJv"
      },
      "outputs": [],
      "source": [
        "# importing collections\n",
        "from collections import deque\n",
        "\n",
        "class Gra:\n",
        "   \n",
        "\n",
        "    def __init__(self, list):\n",
        "        self.list = list\n",
        "\n",
        "    def get_neighbors(self, x):\n",
        "        return self.list[x]\n",
        "\n",
        "    # estimated time (heuristic function)  for all cities\n",
        "    def h(self, node):\n",
        "        H = {\n",
        "            'Tadepalligudem': 2,\n",
        "            'Eluru': 1,\n",
        "            'Vizag': 5,\n",
        "            'Guntur': 10\n",
        "        }\n",
        "\n",
        "        return H[node]\n",
        "\n",
        "    def a_Star(self, startCity, stopCity):\n",
        "        # open_list is a list of cities which have been visited, but who's neighbors\n",
        "        # haven't all been checked on , starts off with the startCity\n",
        "        # closed_list is a list of cities which have been visited\n",
        "        # and who's neighbors have been checked on\n",
        "        open_list = set([startCity])\n",
        "        closed_list = set([])\n",
        "\n",
        "        # g contains current cost from startcity to all other cities\n",
        "       \n",
        "        g = {}\n",
        "\n",
        "        g[startCity] = 0\n",
        "\n",
        "        # previous contains an adjacency map of all cities\n",
        "        previous = {}\n",
        "        previous[startCity] = startCity\n",
        "\n",
        "        while len(open_list) > 0:\n",
        "            node = None\n",
        "\n",
        "            # find a city with the lowest value of f() - evaluation function\n",
        "            for x in open_list:\n",
        "                if node == None or g[x] + self.h(x) < g[node] + self.h(node):\n",
        "                    node = x;\n",
        "\n",
        "            if node == None:\n",
        "                print('ThisWayTakesMoreTime!')\n",
        "                return None\n",
        "\n",
        "            # if the current city  is the stopCity\n",
        "            # then we begin reconstructing the path from it to the startCity\n",
        "            if node == stopCity:\n",
        "                reconst_path = []\n",
        "\n",
        "                while previous[node] != node:\n",
        "                    reconst_path.append(node)\n",
        "                    node = previous[node]\n",
        "\n",
        "                reconst_path.append(startCity)\n",
        "\n",
        "                reconst_path.reverse()\n",
        "\n",
        "                print('LeastDistanceToMyHomeTown: {}'.format(reconst_path))\n",
        "                return reconst_path\n",
        "\n",
        "            # for all neighborCities of the current city do\n",
        "            for (m, weight) in self.get_neighbors(node):\n",
        "                # if the current city isn't in both open_list and closed_list\n",
        "                # add it to open_list and note node as it's previous\n",
        "                if m not in open_list and m not in closed_list:\n",
        "                    open_list.add(m)\n",
        "                    previous[m] = node\n",
        "                    g[m] = g[node] + weight\n",
        "\n",
        "                # otherwise, check if it's quicker to first visit node, then m\n",
        "                # and if it is, update previous data and g data\n",
        "                # and if the node was in the closed_list, move it to open_list\n",
        "                else:\n",
        "                    if g[m] > g[node] + weight:\n",
        "                        g[m] = g[node] + weight\n",
        "                        previous[m] = node\n",
        "\n",
        "                        if m in closed_list:\n",
        "                            closed_list.remove(m)\n",
        "                            open_list.add(m)\n",
        "\n",
        "            # remove node from the open_list, and add it to closed_list\n",
        "            # because all of his neighborcities were inspected\n",
        "            open_list.remove(node)\n",
        "            closed_list.add(node)\n",
        "\n",
        "        print('ThisWayTakesMoreTime!')\n",
        "        return None"
      ]
    },
    {
      "cell_type": "code",
      "source": [
        "list = {\n",
        "    'Tadepalligudem': [('Eluru', 2), ('Vizag', 6), ('Guntur', 14)],\n",
        "    'Eluru': [('Guntur', 10)],\n",
        "    'Vizag': [('Guntur', 24)]\n",
        "}\n",
        "graph1 = Gra(list)\n",
        "graph1.a_Star('Tadepalligudem', 'Guntur')"
      ],
      "metadata": {
        "colab": {
          "base_uri": "https://localhost:8080/"
        },
        "id": "8dbu3RBANQUe",
        "outputId": "efbad89d-0427-4677-e4b0-55960c1068e4"
      },
      "execution_count": 2,
      "outputs": [
        {
          "output_type": "stream",
          "name": "stdout",
          "text": [
            "LeastDistanceToMyHomeTown: ['Tadepalligudem', 'Eluru', 'Guntur']\n"
          ]
        },
        {
          "output_type": "execute_result",
          "data": {
            "text/plain": [
              "['Tadepalligudem', 'Eluru', 'Guntur']"
            ]
          },
          "metadata": {},
          "execution_count": 2
        }
      ]
    }
  ]
}